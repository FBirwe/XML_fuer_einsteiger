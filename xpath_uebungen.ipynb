{
 "cells": [
  {
   "cell_type": "markdown",
   "metadata": {},
   "source": [
    "# XPath Übungen"
   ]
  },
  {
   "cell_type": "code",
   "execution_count": 1,
   "metadata": {},
   "outputs": [],
   "source": [
    "from python_modules.xpath_modules import load_xml, evaluate_xpath, pretty_print"
   ]
  },
  {
   "cell_type": "markdown",
   "metadata": {},
   "source": [
    "## 1. Elemente auswählen\n",
    "\n",
    "### Source document\n",
    "\n",
    "`<jobs>\n",
    "  <job priority=\"critical\" name=\"Müll rausbringen\"/>\n",
    "  <job priority=\"low\" name=\"Möbel säubern\"/>\n",
    "  <job priority=\"low\" name=\"Teppich reinigen\"/>\n",
    "  <job priority=\"medium\" name=\"Fenster putzen\"/>\n",
    "  <job priority=\"high\" name=\"Pflanzen gießen\"/>\n",
    "</jobs>`\n",
    "\n",
    "### Aufgabe\n",
    "Wähle das Element \"jobs\" aus\n",
    "\n",
    "### Erwarte Ausgabe (xml)\n",
    "`<jobs>\n",
    "  <job priority=\"critical\" name=\"Müll rausbringen\"/>\n",
    "  <job priority=\"low\" name=\"Möbel säubern\"/>\n",
    "  <job priority=\"low\" name=\"Teppich reinigen\"/>\n",
    "  <job priority=\"medium\" name=\"Fenster putzen\"/>\n",
    "  <job priority=\"high\" name=\"Pflanzen gießen\"/>\n",
    "</jobs>`"
   ]
  },
  {
   "cell_type": "code",
   "execution_count": null,
   "metadata": {},
   "outputs": [],
   "source": [
    "aufgabe_01 = load_xml('./00_data/01_jobs.xml')\n",
    "#pretty_print(aufgabe_01)"
   ]
  },
  {
   "cell_type": "code",
   "execution_count": null,
   "metadata": {},
   "outputs": [],
   "source": [
    "xpath_befehl = \"\" # Hier den Befehl einfügen\n",
    "\n",
    "evaluate_xpath(aufgabe_01, xpath_befehl)"
   ]
  },
  {
   "cell_type": "markdown",
   "metadata": {},
   "source": [
    "### Aufgabe 1.1 \n",
    "Wähle alle Elemente \"job\" aus\n",
    "### erwartete Ausgabe (XML)\n",
    "`\n",
    "<job priority=\"critical\" name=\"Müll rausbringen\"/>\n",
    "<job priority=\"low\" name=\"Möbel säubern\"/>\n",
    "<job priority=\"low\" name=\"Teppich reinigen\"/>\n",
    "<job priority=\"medium\" name=\"Fenster putzen\"/>\n",
    "<job priority=\"high\" name=\"Pflanzen gießen\"/>\n",
    "`"
   ]
  },
  {
   "cell_type": "code",
   "execution_count": null,
   "metadata": {},
   "outputs": [],
   "source": [
    "aufgabe_01 = load_xml('./00_data/01_jobs.xml')\n",
    "#pretty_print(aufgabe_01)"
   ]
  },
  {
   "cell_type": "code",
   "execution_count": null,
   "metadata": {},
   "outputs": [],
   "source": [
    "xpath_befehl = \"\" # Hier den Befehl einfügen\n",
    "\n",
    "evaluate_xpath(aufgabe_01, xpath_befehl)"
   ]
  },
  {
   "cell_type": "markdown",
   "metadata": {},
   "source": [
    "### Aufgabe 1.2\n",
    "Wähle alle Elemente \"job\" aus\n",
    "### Quell-XML\n",
    "`\n",
    "<jobs>\n",
    "    <day date=\"18.5.2020\">\n",
    "        <job priority=\"critical\" name=\"Müll rausbringen\"/>\n",
    "        <job priority=\"low\" name=\"Möbel säubern\"/>\n",
    "        <job priority=\"low\" name=\"Teppich reinigen\"/>\n",
    "    </day>\n",
    "    <day date=\"19.5.2020\">\n",
    "        <job priority=\"medium\" name=\"Fenster putzen\"/>\n",
    "        <job priority=\"high\" name=\"Pflanzen gießen\"/>\n",
    "    </day>\n",
    "</jobs>\n",
    "`\n",
    "### erwartete Ausgabe (XML)\n",
    "`\n",
    "<job priority=\"critical\" name=\"Müll rausbringen\"/>\n",
    "<job priority=\"low\" name=\"Möbel säubern\"/>\n",
    "<job priority=\"low\" name=\"Teppich reinigen\"/>\n",
    "<job priority=\"medium\" name=\"Fenster putzen\"/>\n",
    "<job priority=\"high\" name=\"Pflanzen gießen\"/>\n",
    "`"
   ]
  },
  {
   "cell_type": "code",
   "execution_count": null,
   "metadata": {},
   "outputs": [],
   "source": [
    "aufgabe_01_01 = load_xml('./00_data/01-01_jobs.xml')\n",
    "#pretty_print(aufgabe_01_01)"
   ]
  },
  {
   "cell_type": "code",
   "execution_count": null,
   "metadata": {},
   "outputs": [],
   "source": [
    "xpath_befehl = \"\" # Hier den Befehl einfügen\n",
    "\n",
    "evaluate_xpath(aufgabe_01_01, xpath_befehl)"
   ]
  },
  {
   "cell_type": "markdown",
   "metadata": {},
   "source": [
    "## 2. Attribute auswählen\n",
    "\n",
    "### Source document\n",
    "\n",
    "`<document name=\"getit Übungsaufgaben\" />`\n",
    "\n",
    "### Aufgabe\n",
    "\n",
    "Gib den Inhalt des Attributes \"name\" aus\n",
    "\n",
    "### Erwarte Ausgabe (text)\n",
    "`getit Übungsaufgaben`"
   ]
  },
  {
   "cell_type": "code",
   "execution_count": null,
   "metadata": {},
   "outputs": [],
   "source": [
    "aufgabe_02 = load_xml('./00_data/02_document.xml')\n",
    "#pretty_print(aufgabe_02)"
   ]
  },
  {
   "cell_type": "code",
   "execution_count": null,
   "metadata": {},
   "outputs": [],
   "source": [
    "xpath_befehl = \"\" # Hier den Befehl einfügen\n",
    "\n",
    "evaluate_xpath(aufgabe_02, xpath_befehl)"
   ]
  },
  {
   "cell_type": "markdown",
   "metadata": {},
   "source": [
    "### Aufgabe 2.1\n",
    "Wähle für alle Elemente \"job\" das Attribut \"name\" aus\n",
    "### Quell-XML\n",
    "`<jobs>\n",
    "  <job priority=\"critical\" name=\"Müll rausbringen\"/>\n",
    "  <job priority=\"low\" name=\"Möbel säubern\"/>\n",
    "  <job priority=\"low\" name=\"Teppich reinigen\"/>\n",
    "  <job priority=\"medium\" name=\"Fenster putzen\"/>\n",
    "  <job priority=\"high\" name=\"Pflanzen gießen\"/>\n",
    "</jobs>`\n",
    "### erwartete Ausgabe (Text)\n",
    "`\n",
    "Müll rausbringen\n",
    "Möbel säubern\n",
    "Fenster putzen\n",
    "Pflanzen gießen\n",
    "`"
   ]
  },
  {
   "cell_type": "code",
   "execution_count": null,
   "metadata": {},
   "outputs": [],
   "source": [
    "aufgabe_02_01 = load_xml('./00_data/01_jobs.xml')\n",
    "#pretty_print(aufgabe_02_01)"
   ]
  },
  {
   "cell_type": "code",
   "execution_count": null,
   "metadata": {},
   "outputs": [],
   "source": [
    "xpath_befehl = \"\" # Hier den Befehl einfügen\n",
    "\n",
    "evaluate_xpath(aufgabe_02_01, xpath_befehl)"
   ]
  },
  {
   "cell_type": "markdown",
   "metadata": {},
   "source": [
    "## 3. Elemente auf Grundlage von Bedingungen auswählen\n",
    "\n",
    "### Quell-XML\n",
    "`<document xmlns:xlink=\"http://www.w3.org/1999/xlink\">\n",
    "  <linkList name=\"A\">\n",
    "    <document xlink:href=\"15024\" />\n",
    "    <document xlink:href=\"15028\" />\n",
    "  </linkList>\n",
    "  <linkList name=\"B\">\n",
    "    <document xlink:href=\"15030\" />\n",
    "    <document xlink:href=\"15032\" />\n",
    "  </linkList>\n",
    "</document>`\n",
    "\n",
    "### Aufgabe\n",
    "Wähle das Element \"linkList\" aus, dass den Namen \"A\" hat\n",
    "\n",
    "### Erwartete Ausgabe (XML)\n",
    "`\n",
    "<linkList name=\"A\">\n",
    "    <document xlink:href=\"15024\" />\n",
    "    <document xlink:href=\"15028\" />\n",
    "</linkList>\n",
    "`"
   ]
  },
  {
   "cell_type": "code",
   "execution_count": null,
   "metadata": {},
   "outputs": [],
   "source": [
    "aufgabe_03 = load_xml('./00_data/03_document.xml')\n",
    "#pretty_print(aufgabe_03)"
   ]
  },
  {
   "cell_type": "code",
   "execution_count": null,
   "metadata": {},
   "outputs": [],
   "source": [
    "xpath_befehl = \"\" # Hier den Befehl einfügen\n",
    "\n",
    "evaluate_xpath(aufgabe_03, xpath_befehl)"
   ]
  },
  {
   "cell_type": "markdown",
   "metadata": {},
   "source": [
    "### Aufgabe 3.1\n",
    "Wähle alle \"document\"-Elemente unterhalb des Elements \"linkList\" aus, beim dem das Attribut \"name\" den Wert \"A\" hat\n",
    "\n",
    "### Erwartete Ausgabe (XML)\n",
    "`<document xlink:href=\"15024\" xmlns:xlink=\"http://www.w3.org/1999/xlink\" />\n",
    "<document xlink:href=\"15028\" xmlns:xlink=\"http://www.w3.org/1999/xlink\" />`"
   ]
  },
  {
   "cell_type": "code",
   "execution_count": null,
   "metadata": {},
   "outputs": [],
   "source": [
    "aufgabe_03_01 = load_xml('./00_data/03_document.xml')\n",
    "#pretty_print(aufgabe_03_01)"
   ]
  },
  {
   "cell_type": "code",
   "execution_count": null,
   "metadata": {},
   "outputs": [],
   "source": [
    "xpath_befehl = \"\" # Hier den Befehl einfügen\n",
    "\n",
    "evaluate_xpath(aufgabe_03_01, xpath_befehl)"
   ]
  },
  {
   "cell_type": "markdown",
   "metadata": {},
   "source": [
    "## 4. Elemente nach Attributinhalt filtern\n",
    "\n",
    "### Quell-XML\n",
    "`\n",
    "<jobs>\n",
    "  <job priority=\"critical\" name=\"Müll rausbringen\" />\n",
    "  <job priority=\"low\" name=\"Möbel säubern\" />\n",
    "  <job priority=\"low\" name=\"Teppich reinigen\" />\n",
    "  <job priority=\"medium\" name=\"Fenster putzen\" />\n",
    "  <job priority=\"high\" name=\"Pflanzen gießen\" />\n",
    "</jobs>\n",
    "`\n",
    "\n",
    "### Aufgabe\n",
    "Wähle alle job-Elemente mit der Priorität \"high\" oder \"critical\" aus\n",
    "\n",
    "### Erwartete Ausgabe (XML)\n",
    "`\n",
    "<job priority=\"critical\" name=\"Müll rausbringen\" />\n",
    "<job priority=\"high\" name=\"Pflanzen gießen\" />\n",
    "`"
   ]
  },
  {
   "cell_type": "code",
   "execution_count": null,
   "metadata": {},
   "outputs": [],
   "source": [
    "aufgabe_04 = load_xml('./00_data/01_jobs.xml')\n",
    "#pretty_print(aufgabe_04)"
   ]
  },
  {
   "cell_type": "code",
   "execution_count": null,
   "metadata": {},
   "outputs": [],
   "source": [
    "xpath_befehl = \"\" # Hier den Befehl einfügen\n",
    "\n",
    "evaluate_xpath(aufgabe_04, xpath_befehl)"
   ]
  },
  {
   "cell_type": "markdown",
   "metadata": {},
   "source": [
    "## 5. Elemente nach numerischen Werten filtern\n",
    "\n",
    "### Quell-XML\n",
    "`\n",
    "<persons>\n",
    "  <person firstName=\"Hans\" lastName=\"Mustermann\" age=\"28\" />\n",
    "  <person firstName=\"Herbert\" lastName=\"Möllemann\" age=\"33\" />\n",
    "  <person firstName=\"Peter\" lastName=\"Meier\" age=\"37\" />\n",
    "  <person firstName=\"Ulrike\" lastName=\"Albrecht\" age=\"45\" />\n",
    "</persons>\n",
    "`\n",
    "\n",
    "### Aufgabe\n",
    "Wähle alle Personen aus, die jünger als 37 sind.\n",
    "\n",
    "### erwartete Ausgabe (XML)\n",
    "`\n",
    "<person firstName=\"Hans\" lastName=\"Mustermann\" age=\"28\" />\n",
    "<person firstName=\"Herbert\" lastName=\"Möllemann\" age=\"33\" />\n",
    "`"
   ]
  },
  {
   "cell_type": "code",
   "execution_count": null,
   "metadata": {},
   "outputs": [],
   "source": [
    "aufgabe_05 = load_xml('./00_data/05_persons.xml')\n",
    "#pretty_print(aufgabe_05)"
   ]
  },
  {
   "cell_type": "code",
   "execution_count": null,
   "metadata": {},
   "outputs": [],
   "source": [
    "xpath_befehl = \"\" # Hier den Befehl einfügen\n",
    "\n",
    "evaluate_xpath(aufgabe_05, xpath_befehl)"
   ]
  },
  {
   "cell_type": "markdown",
   "metadata": {},
   "source": [
    "### Aufgabe 4.2\n",
    "Wähle alle Personen aus, die jünger oder genau 37 Jahre alt sind.\n",
    "### erwartete Ausgabe (XML)\n",
    "`\n",
    "<person firstName=\"Hans\" lastName=\"Mustermann\" age=\"28\" />\n",
    "<person firstName=\"Herbert\" lastName=\"Möllemann\" age=\"33\" />\n",
    "<person firstName=\"Peter\" lastName=\"Meier\" age=\"37\" />\n",
    "`"
   ]
  },
  {
   "cell_type": "markdown",
   "metadata": {},
   "source": [
    "### Aufgabe 4.3\n",
    "Wähle alle Personen aus, die zwischen (inklusive) 30 und 40 Jahre alt sind\n",
    "### erwartete Ausgabe (XML)\n",
    "`\n",
    "<person firstName=\"Herbert\" lastName=\"Möllemann\" age=\"33\" />\n",
    "<person firstName=\"Peter\" lastName=\"Meier\" age=\"37\" />\n",
    "`"
   ]
  },
  {
   "cell_type": "markdown",
   "metadata": {},
   "source": [
    "## 6. Elemente auf Grundlage der Position auswählen\n",
    "\n",
    "### Quell-XML\n",
    "`<persons>\n",
    "  <person firstName=\"Hans\" lastName=\"Mustermann\" age=\"28\" />\n",
    "  <person firstName=\"Herbert\" lastName=\"Möllemann\" age=\"33\" />\n",
    "  <person firstName=\"Peter\" lastName=\"Meier\" age=\"37\" />\n",
    "  <person firstName=\"Ulrike\" lastName=\"Albrecht\" age=\"45\" />\n",
    "</persons>`\n",
    "\n",
    "### Aufgabe\n",
    "Wähle die ersten drei Personenelemente aus\n",
    "\n",
    "### erwartete Ausgabe (XML)\n",
    "`<person firstName=\"Hans\" lastName=\"Mustermann\" age=\"28\" />\n",
    "<person firstName=\"Herbert\" lastName=\"Möllemann\" age=\"33\" />\n",
    "<person firstName=\"Peter\" lastName=\"Meier\" age=\"37\" />`\n",
    "\n",
    "    \n",
    "### Tipps\n",
    "<details>\n",
    "<summary>\n",
    "1. Tipp\n",
    "</summary>\n",
    "<p>\n",
    "Diese Aufgabe ist wahrscheinlich nur mit Googlen zu lösen\n",
    "</p>\n",
    "</details>\n",
    "<details>\n",
    "<summary>\n",
    "2. Tipp\n",
    "</summary>\n",
    "<p>\n",
    "Sucht am besten nach der XPath-Funktion \"position()\"\n",
    "oder klickt <a href=\"https://www.data2type.de/xml-xslt-xslfo/xslt/xslt-und-xpath-referenz/alphabetische-liste/position/\">hier</a>\n",
    "</p>\n",
    "</details>"
   ]
  },
  {
   "cell_type": "code",
   "execution_count": null,
   "metadata": {},
   "outputs": [],
   "source": [
    "aufgabe_06 = load_xml('./00_data/05_persons.xml')\n",
    "#pretty_print(aufgabe_06)"
   ]
  },
  {
   "cell_type": "code",
   "execution_count": null,
   "metadata": {},
   "outputs": [],
   "source": [
    "xpath_befehl = \"\" # Hier den Befehl einfügen\n",
    "\n",
    "evaluate_xpath(aufgabe_06, xpath_befehl)"
   ]
  },
  {
   "cell_type": "markdown",
   "metadata": {},
   "source": [
    "## 7. Elemente mit String-Bedingungen filtern\n",
    "\n",
    "### Quell-XML\n",
    "`\n",
    "<persons>\n",
    "    <person firstName=\"Hans\" lastName=\"Mustermann\" age=\"28\" />\n",
    "    <person firstName=\"Herbert\" lastName=\"Möllemann\" age=\"33\" />\n",
    "    <person firstName=\"Peter\" lastName=\"Meier\" age=\"37\" />\n",
    "    <person firstName=\"Ulrike\" lastName=\"Albrecht\" age=\"45\" />\n",
    "</persons>\n",
    "`\n",
    "\n",
    "### Aufgabe\n",
    "Wähle alle Personen aus, deren Vorname mit dem Buchstaben \"H\" beginnt.\n",
    "\n",
    "### erwartete Ausgabe (XML)\n",
    "`\n",
    "<person firstName=\"Hans\" lastName=\"Mustermann\" age=\"28\" />\n",
    "<person firstName=\"Herbert\" lastName=\"Möllemann\" age=\"33\" />\n",
    "`\n",
    "\n",
    "### Tipps\n",
    "<details>\n",
    "<summary>\n",
    "1. Tipp\n",
    "</summary>\n",
    "<p>\n",
    "Zur Lösung kann die Funktion <a href=\"https://www.data2type.de/xml-xslt-xslfo/xslt/xslt-und-xpath-referenz/alphabetische-liste/starts-with/\">\"starts-with\"</a> benutzt werden. Sie überprüft, ob ein bestimmter Wert mit einem bestimmten String beginnt.\n",
    "Beispiel:\n",
    "<code>starts-with(@attribut,'A')</code>\n",
    "</p>\n",
    "</details>"
   ]
  },
  {
   "cell_type": "code",
   "execution_count": null,
   "metadata": {},
   "outputs": [],
   "source": [
    "aufgabe_07 = load_xml('./00_data/05_persons.xml')\n",
    "#pretty_print(aufgabe_07)"
   ]
  },
  {
   "cell_type": "code",
   "execution_count": null,
   "metadata": {},
   "outputs": [],
   "source": [
    "xpath_befehl = \"\" # Hier den Befehl einfügen\n",
    "\n",
    "evaluate_xpath(aufgabe_07, xpath_befehl)"
   ]
  },
  {
   "cell_type": "markdown",
   "metadata": {},
   "source": [
    "## 8. Werte aufsummieren\n",
    "\n",
    "### Quell-XML\n",
    "`<numbers>\n",
    "  <number>33</number>\n",
    "  <number>34.4</number>\n",
    "  <number>33.8</number>\n",
    "  <number>33.43</number>\n",
    "  <number>34.46</number>\n",
    "  <number>35</number>\n",
    "  <number>33.49</number>\n",
    "  <number>33.00</number>\n",
    "</numbers>`\n",
    "\n",
    "### Aufgabe\n",
    "Gib die Summe aller \"number\"-Elemente aus. \n",
    "\n",
    "### erwartete Ausgabe (Text)\n",
    "`270.58`\n",
    "\n",
    "<details>\n",
    "<summary>\n",
    "1. Tipp\n",
    "</summary>\n",
    "<p>\n",
    "Verwende dazu die <a href=\"https://www.data2type.de/xml-xslt-xslfo/xslt/xslt-und-xpath-referenz/alphabetische-liste/sum/\">\"sum()\"</a>-Funktion\n",
    "</p>\n",
    "</details>"
   ]
  },
  {
   "cell_type": "code",
   "execution_count": null,
   "metadata": {},
   "outputs": [],
   "source": [
    "aufgabe_08 = load_xml('./00_data/07_numbers.xml')\n",
    "#pretty_print(aufgabe_08)"
   ]
  },
  {
   "cell_type": "code",
   "execution_count": null,
   "metadata": {},
   "outputs": [],
   "source": [
    "xpath_befehl = \"\" # Hier den Befehl einfügen\n",
    "\n",
    "evaluate_xpath(aufgabe_08, xpath_befehl)"
   ]
  },
  {
   "cell_type": "markdown",
   "metadata": {},
   "source": [
    "### Aufgabe 8.1\n",
    "Gib die Summe der \"number\"-Elemente kleiner als 34 aus\n",
    "### erwartete Ausgabe (Text)\n",
    "`166.72`"
   ]
  },
  {
   "cell_type": "markdown",
   "metadata": {},
   "source": [
    "### Aufgabe 8.2\n",
    "Gib die Summe der \"number\"-Elemente aus, die gerundet 34 sind. \n",
    "### erwartete Ausgabe (Text)\n",
    "`102.66`\n",
    "\n",
    "<details>\n",
    "<summary>\n",
    "1. Tipp\n",
    "</summary>\n",
    "<p>\n",
    "Verwende dazu die <a href=\"https://www.data2type.de/xml-xslt-xslfo/xslt/xslt-und-xpath-referenz/alphabetische-liste/round/\">\"round()\"</a>-Funktion\n",
    "</p>\n",
    "</details>"
   ]
  },
  {
   "cell_type": "markdown",
   "metadata": {},
   "source": [
    "## 9. String-contains\n",
    "### Quell-XML\n",
    "`<document id=\"1\">\n",
    "  <content>\n",
    "    <html xmlns=\"http://www.w3.org/1999/xhtml\">\n",
    "      <head>\n",
    "      </head>\n",
    "      <body>\n",
    "        <div>\n",
    "          <ul>\n",
    "            <li>\n",
    "            <a href=\"http://www.google.de/\">http://www.google.de/Google</a>\n",
    "              <ul>\n",
    "                <li>\n",
    "                <a href=\"http://earth.google.de/\">Google Earth</a>\n",
    "                </li>\n",
    "                <li>\n",
    "                <a href=\"http://picasa.google.de/intl/de/\">Picasa</a>\n",
    "                </li>\n",
    "              </ul>\n",
    "            </li> \n",
    "            <li><a href=\"http://www.heise.de/\">Heise</a></li> \n",
    "            <li><a href=\"http://www.yahoo.de/\">Yahoo</a></li> \n",
    "          </ul>\n",
    "        </div>\n",
    "      </body>\n",
    "    </html>\n",
    "  </content>\n",
    "</document>`\n",
    "### Aufgabe\n",
    "Wähle alle Links (a-Elemente) aus, die auf google.de verweisen.\n",
    "### Erwartete Ausgabe (XML)\n",
    "`<a href=\"http://www.google.de/\">http://www.google.de/Google</a>\n",
    "<a href=\"http://earth.google.de/\">Google Earth</a></li>`\n",
    "\n",
    "### Tipps\n",
    "<details>\n",
    "<summary>\n",
    "1. Tipp\n",
    "</summary>\n",
    "<p>\n",
    "Verwende dazu die <a href=\"https://www.data2type.de/xml-xslt-xslfo/xslt/xslt-und-xpath-referenz/alphabetische-liste/contains/\">\"contains()\"</a>-Funktion\n",
    "</p>\n",
    "</details>"
   ]
  },
  {
   "cell_type": "code",
   "execution_count": null,
   "metadata": {},
   "outputs": [],
   "source": [
    "aufgabe_09 = load_xml('./00_data/08_string-document.xml')\n",
    "#pretty_print(aufgabe_09)"
   ]
  },
  {
   "cell_type": "code",
   "execution_count": null,
   "metadata": {},
   "outputs": [],
   "source": [
    "xpath_befehl = \"\" # Hier den Befehl einfügen\n",
    "\n",
    "evaluate_xpath(aufgabe_09, xpath_befehl)"
   ]
  },
  {
   "cell_type": "markdown",
   "metadata": {},
   "source": [
    "## 10. Elemente zählen\n",
    "### Quell-XML\n",
    "`\n",
    "<collection>\n",
    "  <artist>\n",
    "    <name>Robbie Williams</name>\n",
    "    <cds>\n",
    "      <cd>Rudebox</cd>\n",
    "      <cd>Swing when you're winning</cd>\n",
    "    </cds>\n",
    "  </artist>\n",
    "  <band>\n",
    "    <name>Juli</name>\n",
    "    <cds>\n",
    "      <cd>Ein neuer Tag</cd>\n",
    "    </cds>\n",
    "  </band>\n",
    "  <band>\n",
    "    <name>Silbermond</name>\n",
    "    <cds>\n",
    "      <cd>Verschwende deine Zeit</cd>\n",
    "      <cd>Laut gedacht</cd>\n",
    "      <cd>Nichts passiert</cd>\n",
    "      <cd>Himmel auf</cd>\n",
    "    </cds>\n",
    "  </band>\n",
    "  <artist>\n",
    "    <name>Michael Jackson</name>\n",
    "    <cds>\n",
    "      <cd>Bad</cd>\n",
    "      <cd>Thriller</cd>\n",
    "      <cd>Dangerous</cd>\n",
    "    </cds>\n",
    "  </artist>\n",
    "</collection>\n",
    "`\n",
    "### Aufgabe\n",
    "Gib aus, wie viele Solokünstler (\"artist\"-Elemente) in der XML aufgeführt sind\n",
    "### Erwartete Ausgabe (Text)\n",
    "`2`\n",
    "\n",
    "### Tipps\n",
    "<details>\n",
    "<summary>\n",
    "1. Tipp\n",
    "</summary>\n",
    "<p>\n",
    "Verwende dazu die <a href=\"https://www.data2type.de/xml-xslt-xslfo/xslt/xslt-und-xpath-referenz/alphabetische-liste/count/\">\"count()\"</a>-Funktion\n",
    "</p>\n",
    "</details>"
   ]
  },
  {
   "cell_type": "code",
   "execution_count": 11,
   "metadata": {},
   "outputs": [],
   "source": [
    "aufgabe_10 = load_xml('./00_data/09_bands.xml')\n",
    "#pretty_print(aufgabe_10)"
   ]
  },
  {
   "cell_type": "code",
   "execution_count": 17,
   "metadata": {
    "scrolled": true
   },
   "outputs": [
    {
     "ename": "XPathEvalError",
     "evalue": "Invalid expression",
     "output_type": "error",
     "traceback": [
      "\u001b[0;31m---------------------------------------------------------------------------\u001b[0m",
      "\u001b[0;31mXPathEvalError\u001b[0m                            Traceback (most recent call last)",
      "\u001b[0;32m<ipython-input-17-c8b93ed216b1>\u001b[0m in \u001b[0;36m<module>\u001b[0;34m\u001b[0m\n\u001b[1;32m      1\u001b[0m \u001b[0mxpath_befehl\u001b[0m \u001b[0;34m=\u001b[0m \u001b[0;34m\"\"\u001b[0m \u001b[0;31m# Hier den Befehl einfügen\u001b[0m\u001b[0;34m\u001b[0m\u001b[0;34m\u001b[0m\u001b[0m\n\u001b[1;32m      2\u001b[0m \u001b[0;34m\u001b[0m\u001b[0m\n\u001b[0;32m----> 3\u001b[0;31m \u001b[0mevaluate_xpath\u001b[0m\u001b[0;34m(\u001b[0m\u001b[0maufgabe_09\u001b[0m\u001b[0;34m,\u001b[0m \u001b[0mxpath_befehl\u001b[0m\u001b[0;34m)\u001b[0m\u001b[0;34m\u001b[0m\u001b[0;34m\u001b[0m\u001b[0m\n\u001b[0m",
      "\u001b[0;32m~/Desktop/test/xpath_notebook/python_modules/xpath_modules.py\u001b[0m in \u001b[0;36mevaluate_xpath\u001b[0;34m(element, xpath_statement, returnObject)\u001b[0m\n\u001b[1;32m     34\u001b[0m         \u001b[0mpretty_print\u001b[0m\u001b[0;34m(\u001b[0m\u001b[0melement\u001b[0m\u001b[0;34m.\u001b[0m\u001b[0mxpath\u001b[0m\u001b[0;34m(\u001b[0m\u001b[0mxpath_statement\u001b[0m\u001b[0;34m)\u001b[0m\u001b[0;34m)\u001b[0m\u001b[0;34m\u001b[0m\u001b[0;34m\u001b[0m\u001b[0m\n\u001b[1;32m     35\u001b[0m \u001b[0;34m\u001b[0m\u001b[0m\n\u001b[0;32m---> 36\u001b[0;31m \u001b[0;32mdef\u001b[0m \u001b[0mload_xml\u001b[0m\u001b[0;34m(\u001b[0m \u001b[0mxml_path\u001b[0m \u001b[0;34m)\u001b[0m\u001b[0;34m:\u001b[0m\u001b[0;34m\u001b[0m\u001b[0;34m\u001b[0m\u001b[0m\n\u001b[0m\u001b[1;32m     37\u001b[0m     \u001b[0;32mwith\u001b[0m \u001b[0mopen\u001b[0m\u001b[0;34m(\u001b[0m \u001b[0mxml_path\u001b[0m \u001b[0;34m)\u001b[0m \u001b[0;32mas\u001b[0m \u001b[0mxml_file\u001b[0m\u001b[0;34m:\u001b[0m\u001b[0;34m\u001b[0m\u001b[0;34m\u001b[0m\u001b[0m\n\u001b[1;32m     38\u001b[0m         \u001b[0;32mreturn\u001b[0m \u001b[0metree\u001b[0m\u001b[0;34m.\u001b[0m\u001b[0mparse\u001b[0m\u001b[0;34m(\u001b[0m\u001b[0mxml_file\u001b[0m\u001b[0;34m)\u001b[0m\u001b[0;34m\u001b[0m\u001b[0;34m\u001b[0m\u001b[0m\n",
      "\u001b[0;32msrc/lxml/etree.pyx\u001b[0m in \u001b[0;36mlxml.etree._ElementTree.xpath\u001b[0;34m()\u001b[0m\n",
      "\u001b[0;32msrc/lxml/xpath.pxi\u001b[0m in \u001b[0;36mlxml.etree.XPathDocumentEvaluator.__call__\u001b[0;34m()\u001b[0m\n",
      "\u001b[0;32msrc/lxml/xpath.pxi\u001b[0m in \u001b[0;36mlxml.etree._XPathEvaluatorBase._handle_result\u001b[0;34m()\u001b[0m\n",
      "\u001b[0;31mXPathEvalError\u001b[0m: Invalid expression"
     ]
    }
   ],
   "source": [
    "xpath_befehl = \"\" # Hier den Befehl einfügen\n",
    "\n",
    "evaluate_xpath(aufgabe_10, xpath_befehl)"
   ]
  },
  {
   "cell_type": "markdown",
   "metadata": {},
   "source": [
    "### Aufgabe 10.1\n",
    "Gib die Summe aler \"cd\"-Elemente aus\n",
    "### erwartete Ausgabe (Text)\n",
    "`10`"
   ]
  },
  {
   "cell_type": "markdown",
   "metadata": {},
   "source": [
    "### Aufgabe 10.2\n",
    "Gib die Summe aller \"cd\"-Elemente, die von einer Band veröffentlicht wurden, aus\n",
    "### erwartete Ausgabe (Text)\n",
    "`5`"
   ]
  },
  {
   "cell_type": "markdown",
   "metadata": {},
   "source": [
    "### Aufgabe 10.3\n",
    "Gib alle Bands aus, die mehr als zwei CDs veröffentlicht haben\n",
    "### Erwartete Ausgabe (XML)\n",
    "`\n",
    "<band>\n",
    "    <name>Silbermond</name>\n",
    "    <cds>\n",
    "        <cd>Verschwende deine Zeit</cd>\n",
    "        <cd>Laut gedacht</cd>\n",
    "        <cd>Nichts passiert</cd>\n",
    "        <cd>Himmel auf</cd>\n",
    "    </cds>\n",
    "</band>\n",
    "`"
   ]
  },
  {
   "cell_type": "markdown",
   "metadata": {},
   "source": [
    "### Aufgabe 10.4\n",
    "Wähle alle Bands und Solokünstler aus, die mehr als zwei CDs veröffentlicht haben\n",
    "### Erwartete Ausgabe (XML)\n",
    "`\n",
    "<band>\n",
    "    <name>Silbermond</name>\n",
    "    <cds>\n",
    "        <cd>Verschwende deine Zeit</cd>\n",
    "        <cd>Laut gedacht</cd>\n",
    "        <cd>Nichts passiert</cd>\n",
    "        <cd>Himmel auf</cd>\n",
    "    </cds>\n",
    "</band>  \n",
    "<artist>\n",
    "    <name>Michael Jackson</name>\n",
    "    <cds>\n",
    "        <cd>Bad</cd>\n",
    "        <cd>Thriller</cd>\n",
    "        <cd>Dangerous</cd>\n",
    "    </cds>\n",
    "</artist>\n",
    "`"
   ]
  },
  {
   "cell_type": "markdown",
   "metadata": {},
   "source": [
    "## 11. Elternelemente auswählen\n",
    "\n",
    "### Quell-XML\n",
    "siehe 10.\n",
    "\n",
    "### Aufgabe\n",
    "Wähle den Namen des Künstlers aus, der die CD \"Thriller\" veröffentlicht hat\n",
    "\n",
    "### Erwartete Ausgabe (XML)\n",
    "`<name>Michael Jackson</name>`"
   ]
  },
  {
   "cell_type": "code",
   "execution_count": 19,
   "metadata": {},
   "outputs": [],
   "source": [
    "aufgabe_11 = load_xml('./00_data/09_bands.xml')\n",
    "#pretty_print(aufgabe_11)"
   ]
  },
  {
   "cell_type": "code",
   "execution_count": 23,
   "metadata": {},
   "outputs": [
    {
     "name": "stdout",
     "output_type": "stream",
     "text": [
      "<class 'lxml.etree._Element'>\n",
      "<cd>Bad</cd>\n",
      "      \n"
     ]
    }
   ],
   "source": [
    "xpath_befehl = \"/collection/*[./name='Michael Jackson']/cds/cd[1]\" # Hier den Befehl einfügen\n",
    "\n",
    "evaluate_xpath(aufgabe_11, xpath_befehl)"
   ]
  }
 ],
 "metadata": {
  "kernelspec": {
   "display_name": "Python 3",
   "language": "python",
   "name": "python3"
  },
  "language_info": {
   "codemirror_mode": {
    "name": "ipython",
    "version": 3
   },
   "file_extension": ".py",
   "mimetype": "text/x-python",
   "name": "python",
   "nbconvert_exporter": "python",
   "pygments_lexer": "ipython3",
   "version": "3.7.4"
  }
 },
 "nbformat": 4,
 "nbformat_minor": 2
}
